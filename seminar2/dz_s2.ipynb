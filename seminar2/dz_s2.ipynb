{
 "cells": [
  {
   "cell_type": "code",
   "execution_count": 4,
   "metadata": {},
   "outputs": [],
   "source": [
    "import pandas as pd\n",
    "import numpy as np\n"
   ]
  },
  {
   "cell_type": "code",
   "execution_count": 5,
   "metadata": {},
   "outputs": [
    {
     "name": "stdout",
     "output_type": "stream",
     "text": [
      "<class 'pandas.core.frame.DataFrame'>\n",
      "RangeIndex: 2399 entries, 0 to 2398\n",
      "Data columns (total 18 columns):\n",
      " #   Column                    Non-Null Count  Dtype  \n",
      "---  ------                    --------------  -----  \n",
      " 0   ID                        2399 non-null   int64  \n",
      " 1   Name                      2399 non-null   object \n",
      " 2   Age                       2399 non-null   int64  \n",
      " 3   Nationality               2392 non-null   object \n",
      " 4   Overall                   2399 non-null   int64  \n",
      " 5   Potential                 2399 non-null   int64  \n",
      " 6   Club                      2158 non-null   object \n",
      " 7   Value                     2142 non-null   float64\n",
      " 8   Wage                      2399 non-null   int64  \n",
      " 9   Preferred Foot            2399 non-null   object \n",
      " 10  International Reputation  2389 non-null   float64\n",
      " 11  Skill Moves               2393 non-null   float64\n",
      " 12  Position                  2378 non-null   object \n",
      " 13  Joined                    2399 non-null   int64  \n",
      " 14  Contract Valid Until      2126 non-null   object \n",
      " 15  Height                    2399 non-null   float64\n",
      " 16  Weight                    2399 non-null   float64\n",
      " 17  Release Clause            2396 non-null   float64\n",
      "dtypes: float64(6), int64(6), object(6)\n",
      "memory usage: 337.5+ KB\n",
      "(2399, 18)\n",
      "ID                            int64\n",
      "Name                         object\n",
      "Age                           int64\n",
      "Nationality                  object\n",
      "Overall                       int64\n",
      "Potential                     int64\n",
      "Club                         object\n",
      "Value                       float64\n",
      "Wage                          int64\n",
      "Preferred Foot               object\n",
      "International Reputation    float64\n",
      "Skill Moves                 float64\n",
      "Position                     object\n",
      "Joined                        int64\n",
      "Contract Valid Until         object\n",
      "Height                      float64\n",
      "Weight                      float64\n",
      "Release Clause              float64\n",
      "dtype: object\n"
     ]
    }
   ],
   "source": [
    "df = pd.read_csv('fifa_s2.csv')\n",
    "df.info()\n",
    "df.describe()\n",
    "df.head()\n",
    "print(df.shape)\n",
    "print(df.dtypes)"
   ]
  },
  {
   "cell_type": "code",
   "execution_count": 6,
   "metadata": {},
   "outputs": [
    {
     "name": "stdout",
     "output_type": "stream",
     "text": [
      "ID - 0%\n",
      "Name - 0%\n",
      "Age - 0%\n",
      "Nationality - 0%\n",
      "Overall - 0%\n",
      "Potential - 0%\n",
      "Club - 10%\n",
      "Value - 11%\n",
      "Wage - 0%\n",
      "Preferred Foot - 0%\n",
      "International Reputation - 0%\n",
      "Skill Moves - 0%\n",
      "Position - 1%\n",
      "Joined - 0%\n",
      "Contract Valid Until - 11%\n",
      "Height - 0%\n",
      "Weight - 0%\n",
      "Release Clause - 0%\n"
     ]
    }
   ],
   "source": [
    "for col in df.columns:\n",
    "    missing_values = np.mean(df[col].isnull())\n",
    "    print('{} - {}%'.format(col, round(missing_values*100)))"
   ]
  },
  {
   "cell_type": "markdown",
   "metadata": {},
   "source": [
    "Как видим, столбцы 'Club', 'Value', 'Contract Valid Until' имеют по 11% нулевых значений. Заменим их на 'N/A'. Столбцы 'Potential' и 'Overall' имеют одинаковые значения, удалим столбец 'Potential' "
   ]
  },
  {
   "cell_type": "code",
   "execution_count": 7,
   "metadata": {},
   "outputs": [
    {
     "name": "stdout",
     "output_type": "stream",
     "text": [
      "<class 'pandas.core.frame.DataFrame'>\n",
      "RangeIndex: 2399 entries, 0 to 2398\n",
      "Data columns (total 17 columns):\n",
      " #   Column                    Non-Null Count  Dtype  \n",
      "---  ------                    --------------  -----  \n",
      " 0   ID                        2399 non-null   int64  \n",
      " 1   Name                      2399 non-null   object \n",
      " 2   Age                       2399 non-null   int64  \n",
      " 3   Nationality               2392 non-null   object \n",
      " 4   Overall                   2399 non-null   int64  \n",
      " 5   Club                      2158 non-null   object \n",
      " 6   Value                     2142 non-null   float64\n",
      " 7   Wage                      2399 non-null   int64  \n",
      " 8   Preferred Foot            2399 non-null   object \n",
      " 9   International Reputation  2389 non-null   float64\n",
      " 10  Skill Moves               2393 non-null   float64\n",
      " 11  Position                  2378 non-null   object \n",
      " 12  Joined                    2399 non-null   int64  \n",
      " 13  Contract Valid Until      2126 non-null   object \n",
      " 14  Height                    2399 non-null   float64\n",
      " 15  Weight                    2399 non-null   float64\n",
      " 16  Release Clause            2396 non-null   float64\n",
      "dtypes: float64(6), int64(5), object(6)\n",
      "memory usage: 318.7+ KB\n",
      "ID - 0%\n",
      "Name - 0%\n",
      "Age - 0%\n",
      "Nationality - 0%\n",
      "Overall - 0%\n",
      "Club - 10%\n",
      "Value - 11%\n",
      "Wage - 0%\n",
      "Preferred Foot - 0%\n",
      "International Reputation - 0%\n",
      "Skill Moves - 0%\n",
      "Position - 1%\n",
      "Joined - 0%\n",
      "Contract Valid Until - 11%\n",
      "Height - 0%\n",
      "Weight - 0%\n",
      "Release Clause - 0%\n"
     ]
    }
   ],
   "source": [
    "\n",
    "df1 = df.drop('Potential', axis=1)\n",
    "df['Value'].fillna(df['Value'].mean(), inplace=True)\n",
    "df['Contract Valid Until'].fillna('N/A', inplace=True)\n",
    "df['Position'].fillna('N/A', inplace=True)\n",
    "df['Nationality'].fillna('N/A', inplace=True)\n",
    "df['Skill Moves'].fillna('N/A', inplace=True)\n",
    "df['Release Clause'].fillna('N/A', inplace=True)\n",
    "df['Club'].fillna('N/A', inplace=True)\n",
    "\n",
    "\n",
    "df1.info()\n",
    "for col in df1.columns:\n",
    "    missing_values = np.mean(df1[col].isnull())\n",
    "    print('{} - {}%'.format(col, round(missing_values*100)))\n"
   ]
  },
  {
   "cell_type": "markdown",
   "metadata": {},
   "source": [
    "Нулевых значений нет. Преобразуем регистр в столбцах со строковыми значениями и удалим дубликаты."
   ]
  },
  {
   "cell_type": "code",
   "execution_count": 8,
   "metadata": {},
   "outputs": [
    {
     "name": "stdout",
     "output_type": "stream",
     "text": [
      "(2397, 17)\n",
      "(2399, 18)\n"
     ]
    }
   ],
   "source": [
    "df1['Club'] = df1['Club'].str.lower()\n",
    "df1['Name'] = df1['Name'].str.lower()\n",
    "df1['Nationality'] = df1['Nationality'].str.lower()\n",
    "\n",
    "df_clear = df1.drop_duplicates()\n",
    "\n",
    "print(df_clear.shape)\n",
    "print(df.shape)"
   ]
  },
  {
   "cell_type": "markdown",
   "metadata": {},
   "source": [
    "Всего было два дубликата."
   ]
  },
  {
   "cell_type": "markdown",
   "metadata": {},
   "source": [
    "Функция для разбиения возраста на группы и подсчета количества футболистов в каждой категории"
   ]
  },
  {
   "cell_type": "code",
   "execution_count": 9,
   "metadata": {},
   "outputs": [
    {
     "name": "stdout",
     "output_type": "stream",
     "text": [
      "          ID           Name  Age  Nationality  Overall                 Club  \\\n",
      "0       1179      g. buffon   40        italy       88  paris saint-germain   \n",
      "1       5479       casillas   37        spain       82             fc porto   \n",
      "2       8205          braga   35     portugal       70              cd aves   \n",
      "3       9014      a. robben   34  netherlands       84    fc bayern münchen   \n",
      "4      19521      j. ibehre   35      england       61     cambridge united   \n",
      "...      ...            ...  ...          ...      ...                  ...   \n",
      "2394  246465       guerrero   16        spain       63  cf rayo majadahonda   \n",
      "2395  246594    h. massengo   16       france       62            as monaco   \n",
      "2396  246599  guillem jaime   19        spain       64         fc barcelona   \n",
      "2397  246606    fran garcía   18        spain       64          real madrid   \n",
      "2398  246608        fidalgo   21        spain       65          real madrid   \n",
      "\n",
      "        Value  Wage Preferred Foot  International Reputation  Skill Moves  \\\n",
      "0      4000.0    77          Right                       4.0          1.0   \n",
      "1      1500.0    10           Left                       4.0          1.0   \n",
      "2       750.0     5          Right                       1.0          3.0   \n",
      "3     15500.0   110           Left                       4.0          4.0   \n",
      "4       120.0     2          Right                       1.0          2.0   \n",
      "...       ...   ...            ...                       ...          ...   \n",
      "2394    625.0     1           Left                       1.0          3.0   \n",
      "2395    450.0     2          Right                       1.0          2.0   \n",
      "2396    975.0    13          Right                       1.0          3.0   \n",
      "2397    825.0     9           Left                       1.0          2.0   \n",
      "2398    875.0    20          Right                       1.0          3.0   \n",
      "\n",
      "     Position  Joined Contract Valid Until    Height  Weight  Release Clause  \\\n",
      "0          GK    2018           01/01/2019  6.333333   203.0          7400.0   \n",
      "1         NaN    2015           01/01/2019  6.083333   185.0          3000.0   \n",
      "2         LCM    2017           01/01/2019  5.916667   165.0          1600.0   \n",
      "3          RM    2009           01/01/2019  5.916667   176.0         25600.0   \n",
      "4          ST    2017           01/01/2019  6.333333   203.0           210.0   \n",
      "...       ...     ...                  ...       ...     ...             ...   \n",
      "2394       CM    2018           01/01/2019  5.916667   165.0          1400.0   \n",
      "2395      CDM    2018           01/01/2021  5.833333   146.0          1100.0   \n",
      "2396       RW    2018           01/01/2020  5.833333   154.0          2600.0   \n",
      "2397       LB    2018           01/01/2019  5.583333   139.0          2200.0   \n",
      "2398       CM    2016           01/01/2019  5.750000   150.0          2000.0   \n",
      "\n",
      "        Age_group  \n",
      "0       старше 36  \n",
      "1       старше 36  \n",
      "2     от 30 до 36  \n",
      "3     от 30 до 36  \n",
      "4     от 30 до 36  \n",
      "...           ...  \n",
      "2394        до 20  \n",
      "2395        до 20  \n",
      "2396        до 20  \n",
      "2397        до 20  \n",
      "2398  от 20 до 30  \n",
      "\n",
      "[2397 rows x 18 columns]\n",
      "Age_group\n",
      "от 20 до 30    1646\n",
      "от 30 до 36     458\n",
      "до 20           270\n",
      "старше 36        23\n",
      "Name: count, dtype: int64\n"
     ]
    },
    {
     "name": "stderr",
     "output_type": "stream",
     "text": [
      "C:\\Users\\iAleksus\\AppData\\Local\\Temp\\ipykernel_13260\\2120196042.py:12: SettingWithCopyWarning: \n",
      "A value is trying to be set on a copy of a slice from a DataFrame.\n",
      "Try using .loc[row_indexer,col_indexer] = value instead\n",
      "\n",
      "See the caveats in the documentation: https://pandas.pydata.org/pandas-docs/stable/user_guide/indexing.html#returning-a-view-versus-a-copy\n",
      "  df_clear['Age_group'] = df_clear['Age'].apply(categorize_age)\n"
     ]
    }
   ],
   "source": [
    "\n",
    "def categorize_age(age):\n",
    "    if age < 20:\n",
    "        return 'до 20'\n",
    "    elif age >= 20 and age < 30:\n",
    "        return 'от 20 до 30'\n",
    "    elif age >= 30 and age < 36:\n",
    "        return 'от 30 до 36'\n",
    "    else:\n",
    "        return 'старше 36'\n",
    "    \n",
    "    \n",
    "df_clear['Age_group'] = df_clear['Age'].apply(categorize_age)\n",
    "player_count_by_age_group = df_clear['Age_group'].value_counts()\n",
    "\n",
    "print(df_clear)\n",
    "print(player_count_by_age_group)"
   ]
  }
 ],
 "metadata": {
  "kernelspec": {
   "display_name": "Python 3",
   "language": "python",
   "name": "python3"
  },
  "language_info": {
   "codemirror_mode": {
    "name": "ipython",
    "version": 3
   },
   "file_extension": ".py",
   "mimetype": "text/x-python",
   "name": "python",
   "nbconvert_exporter": "python",
   "pygments_lexer": "ipython3",
   "version": "3.11.2"
  }
 },
 "nbformat": 4,
 "nbformat_minor": 2
}
